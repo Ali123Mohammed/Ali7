{
 "cells": [
  {
   "cell_type": "markdown",
   "id": "61559c2c-54f4-4a49-99f3-c2acbcce9e52",
   "metadata": {},
   "source": [
    "###Data Scinence Tools and Ecosystem"
   ]
  },
  {
   "cell_type": "markdown",
   "id": "bdb45bec-d1c8-4c83-8132-a255c4770b98",
   "metadata": {},
   "source": [
    "in this noteebook, data science tools and ecosystem are summarized"
   ]
  },
  {
   "cell_type": "markdown",
   "id": "20dd2323-fa94-4594-93c6-66ff6d7d6843",
   "metadata": {},
   "source": [
    "some of the popular languages that data scientists use are:\n",
    "1. Python\n",
    "2. R\n",
    "3. SQL\n",
    "4. C++\n",
    "5. Java etc..;"
   ]
  },
  {
   "cell_type": "markdown",
   "id": "b6091b67-bdb3-4fb1-a595-1610257d5ea7",
   "metadata": {},
   "source": [
    "some of the commonly used libraries used by data scientists incloud:\n",
    "1. TensorFlow.\n",
    "2. Numpy\n",
    "3. Scipy\n",
    "4. pandas\n",
    "5. Matplotlib\n",
    "6. Keras\n",
    "7. Scikit-Learn\n",
    "8.PyTorch etc\n"
   ]
  },
  {
   "cell_type": "markdown",
   "id": "90d2cae5-d347-44e5-b727-0a799f3522fa",
   "metadata": {},
   "source": [
    "| Data Science Tools|\n",
    "|----|\n",
    "|SAS|\n",
    "|Apache Hadoop|\n",
    "|TensorFlow|"
   ]
  },
  {
   "cell_type": "markdown",
   "id": "e03b9f27-f488-4a60-9563-5e6371aae92a",
   "metadata": {},
   "source": [
    "### Below are a few example of evaluating arithmetic expressions in Python."
   ]
  },
  {
   "cell_type": "code",
   "execution_count": 4,
   "id": "0a206be6-f81f-49b3-98f2-aa80ca7c471d",
   "metadata": {},
   "outputs": [
    {
     "data": {
      "text/plain": [
       "17"
      ]
     },
     "execution_count": 4,
     "metadata": {},
     "output_type": "execute_result"
    }
   ],
   "source": [
    "#this is arithmetic example and then add integers\n",
    "(3*4)+5"
   ]
  },
  {
   "cell_type": "code",
   "execution_count": 5,
   "id": "338dbfc3-9660-43a7-b4d0-a4cc4a37b589",
   "metadata": {},
   "outputs": [
    {
     "data": {
      "text/plain": [
       "3.3333333333333335"
      ]
     },
     "execution_count": 5,
     "metadata": {},
     "output_type": "execute_result"
    }
   ],
   "source": [
    "#this will convert 200 minutes to hours by diving by 60\n",
    "200/60"
   ]
  },
  {
   "cell_type": "markdown",
   "id": "6d030b2a-0cc7-4461-968e-3101080ad655",
   "metadata": {},
   "source": [
    "__objective__\n",
    "* List popular languages for data science\n",
    "* List popular libaries for data scince \n",
    "* List of well known data science tools\n",
    "* How to provide comments in the cell"
   ]
  },
  {
   "cell_type": "markdown",
   "id": "b0ab9f06-95f6-4b7f-92c3-3221fa4578e2",
   "metadata": {},
   "source": [
    "##Author \n",
    "Ali\n"
   ]
  },
  {
   "cell_type": "code",
   "execution_count": null,
   "id": "726486ff-3f87-443e-93d8-c776c1b7119c",
   "metadata": {},
   "outputs": [],
   "source": []
  }
 ],
 "metadata": {
  "kernelspec": {
   "display_name": "Python 3 (ipykernel)",
   "language": "python",
   "name": "python3"
  },
  "language_info": {
   "codemirror_mode": {
    "name": "ipython",
    "version": 3
   },
   "file_extension": ".py",
   "mimetype": "text/x-python",
   "name": "python",
   "nbconvert_exporter": "python",
   "pygments_lexer": "ipython3",
   "version": "3.12.2"
  }
 },
 "nbformat": 4,
 "nbformat_minor": 5
}
